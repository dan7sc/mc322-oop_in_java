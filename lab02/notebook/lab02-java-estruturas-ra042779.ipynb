{
 "cells": [
  {
   "cell_type": "markdown",
   "metadata": {},
   "source": [
    "# Laboratório em Estruturas de Programação Java\n",
    "\n",
    "O laboratório a seguir serve para praticar estruturas de programação Java sem compromisso com a orientação a objetos."
   ]
  },
  {
   "cell_type": "markdown",
   "metadata": {},
   "source": [
    "## Desafio 1 - Empréstimo\n",
    "\n",
    "Em um financiamento com juros compostos e número de parcelas fixas parte-se dos seguintes parâmetros:\n",
    "* `S` - valor da primeira parcela\n",
    "* `N` - número de parcelas\n",
    "* `J` - percentual de juros mensal\n",
    "\n",
    "A primeira parcela a ser paga do financiamento é sempre igual a `S`. A partir daí é feita uma atualização mensal da parcela, em que cada nova parcela é calculada a partir da parcela do mês anterior, conforme a fórmula:\n",
    "\n",
    "> Parcela<sub>mês</sub> = Parcela<sub>mês-1</sub> * (1 + `J` / 100)\n",
    "\n",
    "O financiamento encerra quando as `N` parcelas são pagas.\n",
    "\n",
    "Exemplo:\n",
    "* `S`: 200\n",
    "* `N`: 5\n",
    "* `J`: 1%\n",
    "\n",
    "Parcelas do financiamento:\n",
    "`200`; `202`; `204.02`; `206.06`; `208.12`"
   ]
  },
  {
   "cell_type": "markdown",
   "metadata": {},
   "source": [
    "### Desafio 1 / Parte 1 - Escrevendo o programa sem módulos\n",
    "\n",
    "Dado o problema descrito, escreva um programa que calcule as parcelas de um empréstimo para os seguintes valores:\n",
    "* S: 200\n",
    "* N: 5\n",
    "* J: 1%\n",
    "\n",
    "Nesta versão não use outro módulo além da função principal."
   ]
  },
  {
   "cell_type": "code",
   "execution_count": 6,
   "metadata": {},
   "outputs": [
    {
     "name": "stdout",
     "output_type": "stream",
     "text": [
      "200.00, 202.00, 204.02, 206.06, 208.12\n"
     ]
    },
    {
     "data": {
      "text/plain": [
       "null"
      ]
     },
     "execution_count": 6,
     "metadata": {},
     "output_type": "execute_result"
    }
   ],
   "source": [
    "int numParcelas = 5;\n",
    "float primeiraParcela = 200;\n",
    "float juros = 1;\n",
    "float parcelaAtual;\n",
    "\n",
    "parcelaAtual = primeiraParcela;\n",
    "for(int i = 0; i < numParcelas; i++) {\n",
    "    System.out.printf(\"%.2f\", parcelaAtual);\n",
    "    if(i < numParcelas - 1)\n",
    "        System.out.printf(\", \");\n",
    "    parcelaAtual = parcelaAtual * (1 + juros / 100);\n",
    "}\n",
    "System.out.println();"
   ]
  },
  {
   "cell_type": "markdown",
   "metadata": {},
   "source": [
    "### Desafio 1 / Parte 2 - Escrevendo módulos\n",
    "\n",
    "Reescreva o código acima de forma que seu programa faça uso de uma função que seja responsável pelo cálculo de uma parcela X do empréstimo. Podem ser usadas mais funções (métodos) conforme a necessidade."
   ]
  },
  {
   "cell_type": "code",
   "execution_count": 7,
   "metadata": {},
   "outputs": [
    {
     "data": {
      "text/plain": [
       "com.twosigma.beaker.javash.bkre69e8249.Parcela"
      ]
     },
     "execution_count": 7,
     "metadata": {},
     "output_type": "execute_result"
    }
   ],
   "source": [
    "public class Parcela {\n",
    "    static float calculaProximaParcela(float parcelaAtual,\n",
    "                                       float juros,\n",
    "                                       int parcelaN,\n",
    "                                       int parcelaTotal) {\n",
    "        if(parcelaN == 0) {\n",
    "            parcelaN += 1;\n",
    "            return parcelaAtual;\n",
    "        } else if(parcelaN < parcelaTotal) {\n",
    "            parcelaN += 1;\n",
    "            return parcelaAtual * (1 + juros / 100);\n",
    "        } else {\n",
    "            return 0;\n",
    "        }\n",
    "    }\n",
    "\n",
    "    static int atualizaParcela(int parcelaN) {\n",
    "        return ++parcelaN;\n",
    "    }\n",
    "}"
   ]
  },
  {
   "cell_type": "code",
   "execution_count": 8,
   "metadata": {},
   "outputs": [
    {
     "name": "stdout",
     "output_type": "stream",
     "text": [
      "200.00, 202.00, 204.02, 206.06, 208.12\n"
     ]
    },
    {
     "data": {
      "text/plain": [
       "null"
      ]
     },
     "execution_count": 8,
     "metadata": {},
     "output_type": "execute_result"
    }
   ],
   "source": [
    "float primeiraParcela = 200;\n",
    "float parcelaAtual = 0;\n",
    "float juros = 1;\n",
    "int parcelaTotal = 5;\n",
    "int parcelaN = 0;\n",
    "\n",
    "parcelaAtual = primeiraParcela;\n",
    "for(int i = 0; i < parcelaTotal; i++) {\n",
    "    parcelaAtual = Parcela.calculaProximaParcela(parcelaAtual,\n",
    "                                                  juros,\n",
    "                                                  parcelaN,\n",
    "                                                  parcelaTotal);\n",
    "    parcelaN = Parcela.atualizaParcela(parcelaN);\n",
    "    System.out.printf(\"%.2f\", parcelaAtual);\n",
    "    if(i < parcelaTotal - 1)\n",
    "        System.out.printf(\", \");\n",
    "}\n",
    "System.out.println();"
   ]
  },
  {
   "cell_type": "markdown",
   "metadata": {},
   "source": [
    "## Desafio 2\n",
    "\n",
    "Escreva um programa que sorteie um número inteiro entre `0` e `9999` o número deve ser mostrado, em seguida convertido para binário e a versão binária deve ser apresentada no console. A conversão decimal/binário deve ser computada por um programa feito por você."
   ]
  },
  {
   "cell_type": "code",
   "execution_count": 9,
   "metadata": {},
   "outputs": [
    {
     "data": {
      "text/plain": [
       "com.twosigma.beaker.javash.bkre69e8249.Numero"
      ]
     },
     "execution_count": 9,
     "metadata": {},
     "output_type": "execute_result"
    }
   ],
   "source": [
    "import java.util.Random;\n",
    "\n",
    "public class Numero {\n",
    "    static int sorteiaNumero() {\n",
    "        Random rand = new Random();\n",
    "        int numeroSorteado = rand.nextInt(10000);\n",
    "        return numeroSorteado;\n",
    "    }\n",
    "    \n",
    "    static String converteParaBinario(int numero) {\n",
    "        String str = new String(\"\");\n",
    "        String binario = new String(\"\");\n",
    "        int resto = 0;\n",
    "\n",
    "        while(numero != 0) {\n",
    "            resto = numero % 2;\n",
    "            str = str + resto;\n",
    "            numero = numero / 2;\n",
    "        }\n",
    "        \n",
    "        for(int i = str.length() - 1; i >= 0; i--) {\n",
    "            binario = binario.concat(\"\" + str.charAt(i));\n",
    "        }\n",
    "\n",
    "        return binario;\n",
    "    }\n",
    "}"
   ]
  },
  {
   "cell_type": "code",
   "execution_count": 10,
   "metadata": {},
   "outputs": [
    {
     "name": "stdout",
     "output_type": "stream",
     "text": [
      "O binario de 7479 eh 1110100110111\n"
     ]
    },
    {
     "data": {
      "text/plain": [
       "null"
      ]
     },
     "execution_count": 10,
     "metadata": {},
     "output_type": "execute_result"
    }
   ],
   "source": [
    "int num = Numero.sorteiaNumero();\n",
    "System.out.println(\"O binario de \" + num + \" eh \" + Numero.converteParaBinario(num));"
   ]
  },
  {
   "cell_type": "markdown",
   "metadata": {},
   "source": [
    "## Desafio 3\n",
    "\n",
    "Uma molécula de DNA pode ser definida a partir de uma cadeia que representa a sequência de suas bases:\n",
    "A - Adenina\n",
    "C - Citisina\n",
    "G - Guanina\n",
    "T - Tinina\n",
    "\n",
    "Desse modo, uma string pode ser usada para representar um segmento do DNA da seguinte maneira: `ATTACGCGCAAAC`.\n",
    "\n",
    "Escreva uma função (método) que codifique a cadeia de RNA produzida a partir de uma cadeia de DNA. A função deve ser genérica o suficiente para ser aplicável a qualquer cadeia. A entrada é uma string (DNA) e o retorno é uma string (RNA).\n",
    "\n",
    "Escreva um programa que teste esta função com uma cadeia de DNA de sua escolha."
   ]
  },
  {
   "cell_type": "code",
   "execution_count": 11,
   "metadata": {},
   "outputs": [
    {
     "data": {
      "text/plain": [
       "com.twosigma.beaker.javash.bkre69e8249.DNA"
      ]
     },
     "execution_count": 11,
     "metadata": {},
     "output_type": "execute_result"
    }
   ],
   "source": [
    "public class DNA {\n",
    "    static String obtemRNA(String dna) {\n",
    "        String rna = new String(\"\");\n",
    "        char ch;\n",
    "        \n",
    "        for(int i = 0; i < dna.length(); i++) {\n",
    "            ch = dna.charAt(i);\n",
    "            if(ch == 'A')\n",
    "                rna = rna.concat(\"U\");\n",
    "            else if(ch == 'T')\n",
    "                rna = rna.concat(\"A\");\n",
    "            else if(ch == 'C')\n",
    "                rna = rna.concat(\"G\");\n",
    "            else if(ch == 'G')\n",
    "                rna = rna.concat(\"C\");\n",
    "        }\n",
    "        \n",
    "        return rna;\n",
    "    }\n",
    "}"
   ]
  },
  {
   "cell_type": "code",
   "execution_count": 12,
   "metadata": {},
   "outputs": [
    {
     "name": "stdout",
     "output_type": "stream",
     "text": [
      "UAAUGCGCGUUUG\n"
     ]
    },
    {
     "data": {
      "text/plain": [
       "null"
      ]
     },
     "execution_count": 12,
     "metadata": {},
     "output_type": "execute_result"
    }
   ],
   "source": [
    "String dna = \"ATTACGCGCAAAC\";\n",
    "System.out.println(DNA.obtemRNA(dna));"
   ]
  },
  {
   "cell_type": "markdown",
   "metadata": {},
   "source": [
    "## Desafio 4\n",
    "\n",
    "Uma empresa precisa realizar uma estatística do salário de seus funcionários.\n",
    "\n",
    "Para fins de teste, os salários devem ser gerados aleatoriamente com valores variando entre R\\\\$ 2.500 e R\\\\$ 15.000.\n",
    "\n",
    "Escreva um programa que gere uma lista contendo os salários de 50 funcionários da empresa e mostre no console quantos funcionários ganham salário acima da média."
   ]
  },
  {
   "cell_type": "code",
   "execution_count": 13,
   "metadata": {},
   "outputs": [
    {
     "data": {
      "text/plain": [
       "com.twosigma.beaker.javash.bkre69e8249.Salario"
      ]
     },
     "execution_count": 13,
     "metadata": {},
     "output_type": "execute_result"
    }
   ],
   "source": [
    "import java.util.Random;\n",
    "\n",
    "public class Salario {\n",
    "    static int[] geraSalarios() {\n",
    "        Random rand = new Random();\n",
    "        int salarios[] = new int[50];\n",
    "        \n",
    "        for(int i = 0; i < 50; i++) {\n",
    "            salarios[i] = rand.nextInt(12501) + 2500;\n",
    "        }\n",
    "        return salarios;\n",
    "    }\n",
    "    \n",
    "    static void listaSalarios(int[] salarios) {\n",
    "\n",
    "        for(int i = 0; i < 50; i++) {\n",
    "            System.out.println(i+1 + \": \" + salarios[i]);\n",
    "        }\n",
    "    }\n",
    "    \n",
    "    static int media(int[] salarios) {\n",
    "        int soma = 0;\n",
    "        \n",
    "        for(int i = 0; i < 50; i++) {\n",
    "            soma += salarios[i];\n",
    "        }\n",
    "        return soma / 50;\n",
    "    }\n",
    "    \n",
    "    static int salariosAcimaDaMedia(int[] salarios, int media) {\n",
    "        int contador = 0;\n",
    "        \n",
    "        for(int i = 0; i < 50; i++) {\n",
    "            if(salarios[i] > media) {\n",
    "                contador++;\n",
    "            }\n",
    "        }\n",
    "        return contador;\n",
    "    }\n",
    "}"
   ]
  },
  {
   "cell_type": "code",
   "execution_count": 14,
   "metadata": {},
   "outputs": [
    {
     "name": "stdout",
     "output_type": "stream",
     "text": [
      "24\n"
     ]
    },
    {
     "data": {
      "text/plain": [
       "null"
      ]
     },
     "execution_count": 14,
     "metadata": {},
     "output_type": "execute_result"
    }
   ],
   "source": [
    "int s[] = Salario.geraSalarios();\n",
    "// Salario.listaSalarios(s);\n",
    "int media = Salario.media(s);\n",
    "System.out.println(Salario.salariosAcimaDaMedia(s, media));"
   ]
  }
 ],
 "metadata": {
  "kernelspec": {
   "display_name": "Java",
   "language": "java",
   "name": "java"
  },
  "language_info": {
   "codemirror_mode": "text/x-java",
   "file_extension": ".java",
   "mimetype": "",
   "name": "Java",
   "nbconverter_exporter": "",
   "version": "1.8.0_121"
  },
  "toc": {
   "base_numbering": 1,
   "nav_menu": {},
   "number_sections": false,
   "sideBar": false,
   "skip_h1_title": false,
   "title_cell": "Table of Contents",
   "title_sidebar": "Contents",
   "toc_cell": false,
   "toc_position": {},
   "toc_section_display": false,
   "toc_window_display": false
  }
 },
 "nbformat": 4,
 "nbformat_minor": 4
}
