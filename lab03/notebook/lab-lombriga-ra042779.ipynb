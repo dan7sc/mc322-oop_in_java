{
 "cells": [
  {
   "cell_type": "markdown",
   "id": "driving-notification",
   "metadata": {},
   "source": [
    "# Lombriga no Aquário\n",
    "\n",
    "Escreva uma classe em Java em que cada objeto representa uma lombriga em um aquário.\n",
    "\n",
    "## Lombriga\n",
    "\n",
    "A lombriga é representada por um caractere da cabeça `O` seguido por uma sequência de caracteres `@`, cujo número de total caracteres (incluindo a cabeça) é equivalente ao tamanho. Por exemplo, uma lombriga de tamanho 4 seria representada assim:\n",
    "\n",
    "~~~\n",
    "@@@O\n",
    "~~~\n",
    "\n",
    "A cabeça indica o lado para o qual a lombriga está virada. No exemplo anterior, a lombriga está virada para a direita.\n",
    "\n",
    "## Aquário\n",
    "\n",
    "O espaço do aquário também é representado por uma sequência de caracteres `#`. Por exemplo, um aquário de tamanho 8 é representado assim:\n",
    "\n",
    "~~~\n",
    "########\n",
    "~~~\n",
    "\n",
    "## Lombriga no Aquário\n",
    "\n",
    "Sempre o aquário e a lombriga são representados em uma única linha. A lombriga ocupa espaços vazios do aquário. Por exemplo, uma lombriga de tamanho 4 em um aquário de tamanho 8, pode ser representado assim:\n",
    "\n",
    "~~~\n",
    "#@@@O###\n",
    "~~~\n",
    "\n",
    "## Se Movendo pelo Aquário\n",
    "\n",
    "Note que a lombriga pode estar em qualquer posição do aquário, desde que ela caiba no espaço disponível.  A primeira posição no aquário é sempre 1 (e não 0 como em um vetor em Java).\n",
    "\n",
    "A lombriga pode se mover pelo aquário sempre para a direção para a qual ela está virada. No exemplo anterior, a lombriga daria um passo assim:\n",
    "\n",
    "~~~\n",
    "##@@@O##\n",
    "~~~\n",
    "\n",
    "## Tamanho da Lombriga\n",
    "\n",
    "A lombriga pode crescer de tamanho, sempre uma unidade de cada vez na direção oposta à cabeça. No exemplo anterior, se a lombriga crescer ela fica assim:\n",
    "\n",
    "~~~\n",
    "#@@@@O##\n",
    "~~~\n",
    "\n",
    "## Virar de Lado\n",
    "\n",
    "Uma lombriga pode virar de lado. No exemplo anterior, se a lombriga virar de lado ela fica assim:\n",
    "\n",
    "~~~\n",
    "#O@@@@##\n",
    "~~~"
   ]
  },
  {
   "cell_type": "markdown",
   "id": "animal-invalid",
   "metadata": {},
   "source": [
    "# Tarefa\n",
    "\n",
    "Escreva uma classe denominada `AquarioLombriga` em que cada objeto representa uma lombriga dentro de um aquário (ambos estarão juntos em um único objeto).\n",
    "\n",
    "## Atributos\n",
    "\n",
    "Você deve decidir quais os atributos definirá.\n",
    "\n",
    "## Métodos\n",
    "\n",
    "* `construtor` - no construtor é informado como parâmetro: o tamanho do aquário, o tamanho da lombriga e a posição da lombriga no aquário;\n",
    "* `crescer` - a lombriga cresce uma unidade dentro do aquário somente se houver espaço para ela crescer na direção oposta à cabeça -- a lombriga só cresce se houver espaço no aquário na direção do crescimento, caso contrário, ela não crescerá, mesmo que o método seja chamado;\n",
    "* `mover` - a lombriga se move uma unidade na direção para a qual está virada à cabeça; se ela estiver no limite do aquário (para o lado que ela está virada a cabeça) e for chamado este método ela vira de lado em vez de andar;\n",
    "* `virar` - a lombriga vira de lado;\n",
    "* `apresenta` - retorna uma String contendo a apresentação da lombriga no aquário no estado atual, conforme foi descrito anteriormente.\n"
   ]
  },
  {
   "cell_type": "code",
   "execution_count": 149,
   "id": "subtle-competition",
   "metadata": {},
   "outputs": [
    {
     "data": {
      "text/plain": [
       "com.twosigma.beaker.javash.bkrc266bb67.AquarioLombriga"
      ]
     },
     "execution_count": 149,
     "metadata": {},
     "output_type": "execute_result"
    }
   ],
   "source": [
    "public class AquarioLombriga {\n",
    "    int aquarioTamanho;\n",
    "    int lombrigaTamanho;\n",
    "    int caudaPosicao;\n",
    "    int cabecaPosicao;\n",
    "\n",
    "    public AquarioLombriga(int aquarioTamanho, int lombrigaTamanho, int caudaPosicao) {\n",
    "        this.lombrigaTamanho = lombrigaTamanho < 2\n",
    "            ? 2\n",
    "            : lombrigaTamanho;\n",
    "        this.aquarioTamanho = this.lombrigaTamanho > aquarioTamanho\n",
    "            ? this.lombrigaTamanho\n",
    "            : aquarioTamanho;\n",
    "        this.caudaPosicao = caudaPosicao + this.lombrigaTamanho - 1 > this.aquarioTamanho || caudaPosicao < 1\n",
    "            ? 0\n",
    "            : caudaPosicao - 1;\n",
    "        this.cabecaPosicao = this.caudaPosicao + this.lombrigaTamanho - 1;\n",
    "    }\n",
    "    \n",
    "    public void crescer() {\n",
    "        if((caudaPosicao > 0) && (caudaPosicao + 1 < aquarioTamanho)) {\n",
    "            if(caudaPosicao < cabecaPosicao) {\n",
    "                lombrigaTamanho += 1;\n",
    "                caudaPosicao -=1;\n",
    "            } else {\n",
    "                lombrigaTamanho += 1;\n",
    "                caudaPosicao += 1;\n",
    "            }\n",
    "        }\n",
    "    }\n",
    "    \n",
    "    public void mover() {\n",
    "        if(caudaPosicao < cabecaPosicao && cabecaPosicao + 1 < aquarioTamanho) {\n",
    "            caudaPosicao += 1;\n",
    "            cabecaPosicao += 1;\n",
    "        } else if(caudaPosicao > cabecaPosicao && caudaPosicao < aquarioTamanho && cabecaPosicao > 0) {\n",
    "            caudaPosicao -= 1;\n",
    "            cabecaPosicao -= 1;\n",
    "        } else {\n",
    "            virar();\n",
    "        }\n",
    "    }\n",
    "    \n",
    "    public void virar() {\n",
    "        int temp = 0;\n",
    "        temp = caudaPosicao;\n",
    "        caudaPosicao = cabecaPosicao;\n",
    "        cabecaPosicao = temp;\n",
    "    }\n",
    "    \n",
    "    public void apresenta() {\n",
    "        String s = new String(\"\");\n",
    "        for(int i = 0; i < aquarioTamanho; i++) {\n",
    "            if(caudaPosicao < cabecaPosicao && (i < caudaPosicao || i > cabecaPosicao)) {\n",
    "                s = s.concat(\"#\");\n",
    "            } else if(caudaPosicao > cabecaPosicao && (i > caudaPosicao || i < cabecaPosicao)) {\n",
    "                s = s.concat(\"#\");\n",
    "            } else if(i == cabecaPosicao) {\n",
    "                s = s.concat(\"O\");\n",
    "            } else {\n",
    "                s = s.concat(\"@\");\n",
    "            }\n",
    "        }\n",
    "        System.out.println(s);\n",
    "    }\n",
    "}"
   ]
  },
  {
   "cell_type": "code",
   "execution_count": 150,
   "id": "connected-portsmouth",
   "metadata": {},
   "outputs": [
    {
     "name": "stdout",
     "output_type": "stream",
     "text": [
      "8\n",
      "4\n",
      "1\n",
      "4\n",
      "#@@@O###\n",
      "##@@@O##\n",
      "#@@@@O##\n",
      "#O@@@@##\n",
      "#O@@@@@#\n",
      "#O@@@@@@\n",
      "O@@@@@@#\n",
      "@@@@@@O#\n"
     ]
    },
    {
     "data": {
      "text/plain": [
       "null"
      ]
     },
     "execution_count": 150,
     "metadata": {},
     "output_type": "execute_result"
    }
   ],
   "source": [
    "AquarioLombriga aqualom = new AquarioLombriga(8, 4, 2);\n",
    "System.out.println(aqualom.aquarioTamanho);\n",
    "System.out.println(aqualom.lombrigaTamanho);\n",
    "System.out.println(aqualom.caudaPosicao);\n",
    "System.out.println(aqualom.cabecaPosicao);\n",
    "aqualom.apresenta();\n",
    "aqualom.mover();\n",
    "aqualom.apresenta();\n",
    "aqualom.crescer();\n",
    "aqualom.apresenta();\n",
    "aqualom.virar();\n",
    "aqualom.apresenta();\n",
    "aqualom.crescer();\n",
    "aqualom.apresenta();\n",
    "aqualom.crescer();\n",
    "aqualom.apresenta();\n",
    "aqualom.mover();\n",
    "aqualom.apresenta();\n",
    "aqualom.mover();\n",
    "aqualom.apresenta();"
   ]
  },
  {
   "cell_type": "markdown",
   "id": "pacific-contribution",
   "metadata": {},
   "source": [
    "# Animando a Lombriga no Aquário\n",
    "\n",
    "Escreva uma classe em Java que representa uma sequência de ações para animar uma lombriga em um aquário. A sequência de ações é representada pela string:\n",
    "\n",
    "~~~\n",
    "AALLPP$$$$$$$$$$\n",
    "~~~\n",
    "\n",
    "* `AA` - é um número (sempre ocupando dois caracteres) representando o tamanho do aquário; por exemplo, `08` representa um aquário de tamanho 8;\n",
    "* `LL` - é um número (sempre ocupando dois caracteres) representando o tamanho da lombriga; por exemplo, `04` representa uma lombriga de tamanho 4;\n",
    "* `PP` - é um número (sempre ocupando dois caracteres) representando a posição inicial da lombriga no aquário -- a lombriga começa sempre virada para a direita, portanto trata-se da posição da ponta da cauda; por exemplo, `03` representa uma lombriga na posição 3.\n",
    "\n",
    "A sequência:\n",
    "\n",
    "~~~\n",
    "080403\n",
    "~~~\n",
    "\n",
    "Representa um aquário de tamanho 8, com uma lombriga de tamanho 4, na posição 3:\n",
    "\n",
    "~~~\n",
    "##@@@O##\n",
    "~~~\n",
    "\n",
    "* `$` - cada caractere subsequente (que aparece como `$`) representa um dos possíveis comandos de animação, equivalentes aos métodos da lombriga:\n",
    "  * `C` - a lombriga cresce;\n",
    "  * `M` - a lombriga se move;\n",
    "  * `V` - a lombriga vira.\n",
    "\n",
    "~~~\n",
    "080403MCMVM\n",
    "~~~\n",
    "\n",
    "A lombriga do exemplo anterior os passos de animação são: se move, cresce, se move, vira e se move.\n"
   ]
  },
  {
   "cell_type": "markdown",
   "id": "catholic-idaho",
   "metadata": {},
   "source": [
    "# Tarefa\n",
    "\n",
    "Escreva uma classe denominada `Animacao` em que cada objeto representa uma animação de uma lombriga em um aquário.\n",
    "\n",
    "## Atributos\n",
    "\n",
    "Você deve decidir quais os atributos definirá.\n",
    "\n",
    "## Métodos\n",
    "\n",
    "* `construtor` - no construtor é informado como parâmetro: a string de animação, conforme a descrição anterior;\n",
    "* `apresenta` - retorna uma String com a lombriga no aquário no estado atual (a primeira vez     que o método é chamado, apresenta o estado inicial da lombriga - sem animação);\n",
    "* `passo` - executa um único passo da animação.\n",
    "\n",
    "Por exemplo, considere a animação do exemplo anterior:\n",
    "~~~\n",
    "080403MCMVM\n",
    "~~~\n",
    "\n",
    "Considere que foi chamada a seguinte sequência de métodos:\n",
    "* `construtor` - passa como parâmetro `080403MCMVM`;\n",
    "* `apresenta` - retorna `##@@@O##`\n",
    "* `passo` - executa primeira ação `M`\n",
    "* `apresenta` -  retorna `###@@@O#`\n",
    "* `passo` - executa próxima ação `C`\n",
    "* `apresenta`- retorna `##@@@@O#`\n",
    "* `passo` - executa próxima ação `M`\n",
    "* `apresenta` - retorna `###@@@@O`\n",
    "* `passo` - executa próxima ação `V`\n",
    "* `apresenta`- retorna `###O@@@@`\n",
    "* `passo` - executa próxima ação `M`\n",
    "* `apresenta` - retorna `##O@@@@#`\n"
   ]
  },
  {
   "cell_type": "code",
   "execution_count": 151,
   "id": "polished-publisher",
   "metadata": {},
   "outputs": [
    {
     "data": {
      "text/plain": [
       "com.twosigma.beaker.javash.bkrc266bb67.Animacao"
      ]
     },
     "execution_count": 151,
     "metadata": {},
     "output_type": "execute_result"
    }
   ],
   "source": [
    "public class Animacao {\n",
    "    String animacao;\n",
    "    AquarioLombriga aquarioLombriga;\n",
    "    int passoAtual;\n",
    "\n",
    "    public Animacao(String animacao) {\n",
    "        this.animacao = animacao;\n",
    "        this.aquarioLombriga = new AquarioLombriga(\n",
    "            Integer.parseInt(animacao.substring(0, 2)),\n",
    "            Integer.parseInt(animacao.substring(2, 4)),\n",
    "            Integer.parseInt(animacao.substring(4, 6))\n",
    "        );\n",
    "        this.passoAtual = 6;\n",
    "    }\n",
    "    \n",
    "    public void passo() {\n",
    "        char ch = animacao.charAt(passoAtual);\n",
    "        passoAtual += 1;\n",
    "        if(ch == 'M') {\n",
    "            aquarioLombriga.mover();\n",
    "        } else if (ch == 'C') {\n",
    "            aquarioLombriga.crescer();\n",
    "        } else if (ch == 'V') {\n",
    "            aquarioLombriga.virar();\n",
    "        }\n",
    "    }\n",
    "    \n",
    "    public void apresenta() {\n",
    "        aquarioLombriga.apresenta();\n",
    "    }\n",
    "}"
   ]
  },
  {
   "cell_type": "markdown",
   "id": "limiting-nothing",
   "metadata": {},
   "source": [
    "# Programa\n",
    "\n",
    "Escreva um programa que use as suas classes para mostrar todos os passos da animação no console: `080403MCMVM`, conforme foi ilustrado anteriormente."
   ]
  },
  {
   "cell_type": "code",
   "execution_count": 152,
   "id": "stainless-lightning",
   "metadata": {},
   "outputs": [
    {
     "name": "stdout",
     "output_type": "stream",
     "text": [
      "8\n",
      "4\n",
      "2\n",
      "##@@@O##\n",
      "###@@@O#\n",
      "##@@@@O#\n",
      "###@@@@O\n",
      "###O@@@@\n",
      "##O@@@@#\n"
     ]
    },
    {
     "data": {
      "text/plain": [
       "null"
      ]
     },
     "execution_count": 152,
     "metadata": {},
     "output_type": "execute_result"
    }
   ],
   "source": [
    "Animacao anima = new Animacao(\"080403MCMVM\");\n",
    "System.out.println(anima.aquarioLombriga.aquarioTamanho);\n",
    "System.out.println(anima.aquarioLombriga.lombrigaTamanho);\n",
    "System.out.println(anima.aquarioLombriga.caudaPosicao);\n",
    "anima.apresenta();\n",
    "anima.passo();\n",
    "anima.apresenta();\n",
    "anima.passo();\n",
    "anima.apresenta();\n",
    "anima.passo();\n",
    "anima.apresenta();\n",
    "anima.passo();\n",
    "anima.apresenta();\n",
    "anima.passo();\n",
    "anima.apresenta();"
   ]
  },
  {
   "cell_type": "markdown",
   "id": "metric-prototype",
   "metadata": {},
   "source": [
    "# Versão Eclipse ou equivalente\n",
    "\n",
    "Adapte todo o código que você desenvolveu para ser rodado em console fora do Jupyter, usando o Eclipse ou equivalente seguindo os critérios:\n",
    "* todo o código deve estar no pacote: `mc322.lab03` -- não criar sub-pacotes;\n",
    "* o programa principal (main) deve estar em uma terceira classe chamada `AppLab03`."
   ]
  },
  {
   "cell_type": "markdown",
   "id": "respiratory-meditation",
   "metadata": {},
   "source": [
    "# Observações Finais Importantes\n",
    "\n",
    "* O nome das classes e métodos deve ser rigorosamente como o especificado.\n",
    "* Cada um tem a liberdade de decidir como tratar as condições excepcionais não especificadas, mas seguem sugestões de como tratá-las:\n",
    "a. O que fazer se for especificada uma lombriga maior que o aquário? Aumentar o aquário para que a lombriga caiba.\n",
    "b. O que fazer se a lombriga não couber na posição especificada no começo? Colocar a lombriga na posição 1."
   ]
  }
 ],
 "metadata": {
  "kernelspec": {
   "display_name": "Java",
   "language": "java",
   "name": "java"
  },
  "language_info": {
   "codemirror_mode": "text/x-java",
   "file_extension": ".java",
   "mimetype": "",
   "name": "Java",
   "nbconverter_exporter": "",
   "version": "1.8.0_121"
  },
  "toc": {
   "base_numbering": 1,
   "nav_menu": {},
   "number_sections": false,
   "sideBar": false,
   "skip_h1_title": false,
   "title_cell": "Table of Contents",
   "title_sidebar": "Contents",
   "toc_cell": false,
   "toc_position": {},
   "toc_section_display": false,
   "toc_window_display": false
  }
 },
 "nbformat": 4,
 "nbformat_minor": 5
}
